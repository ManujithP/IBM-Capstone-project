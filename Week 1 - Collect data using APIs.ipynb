{
 "cells": [
  {
   "cell_type": "code",
   "execution_count": 49,
   "metadata": {},
   "outputs": [
    {
     "name": "stdout",
     "output_type": "stream",
     "text": [
      "Requirement already satisfied: openpyxl in c:\\users\\manujith\\appdata\\local\\programs\\python\\python38-32\\lib\\site-packages (3.0.5)"
     ]
    },
    {
     "name": "stderr",
     "output_type": "stream",
     "text": [
      "WARNING: You are using pip version 20.2.3; however, version 20.2.4 is available.\n",
      "You should consider upgrading via the 'c:\\users\\manujith\\appdata\\local\\programs\\python\\python38-32\\python.exe -m pip install --upgrade pip' command.\n"
     ]
    },
    {
     "name": "stdout",
     "output_type": "stream",
     "text": [
      "\n",
      "Requirement already satisfied: et-xmlfile in c:\\users\\manujith\\appdata\\local\\programs\\python\\python38-32\\lib\\site-packages (from openpyxl) (1.0.1)\n",
      "Requirement already satisfied: jdcal in c:\\users\\manujith\\appdata\\local\\programs\\python\\python38-32\\lib\\site-packages (from openpyxl) (1.4.1)\n"
     ]
    }
   ],
   "source": [
    "!pip install openpyxl "
   ]
  },
  {
   "cell_type": "code",
   "execution_count": 2,
   "metadata": {},
   "outputs": [
    {
     "name": "stdout",
     "output_type": "stream",
     "text": [
      "Requirement already satisfied: requests in c:\\users\\manujith\\appdata\\local\\programs\\python\\python38-32\\lib\\site-packages (2.25.0)\n",
      "Requirement already satisfied: chardet<4,>=3.0.2 in c:\\users\\manujith\\appdata\\local\\programs\\python\\python38-32\\lib\\site-packages (from requests) (3.0.4)\n",
      "Requirement already satisfied: idna<3,>=2.5 in c:\\users\\manujith\\appdata\\local\\programs\\python\\python38-32\\lib\\site-packages (from requests) (2.10)\n",
      "Requirement already satisfied: certifi>=2017.4.17 in c:\\users\\manujith\\appdata\\local\\programs\\python\\python38-32\\lib\\site-packages (from requests) (2020.6.20)\n",
      "Requirement already satisfied: urllib3<1.27,>=1.21.1 in c:\\users\\manujith\\appdata\\local\\programs\\python\\python38-32\\lib\\site-packages (from requests) (1.26.2)\n"
     ]
    },
    {
     "name": "stderr",
     "output_type": "stream",
     "text": [
      "WARNING: You are using pip version 20.2.3; however, version 20.2.4 is available.\n",
      "You should consider upgrading via the 'c:\\users\\manujith\\appdata\\local\\programs\\python\\python38-32\\python.exe -m pip install --upgrade pip' command.\n"
     ]
    }
   ],
   "source": [
    "!pip install requests"
   ]
  },
  {
   "cell_type": "code",
   "execution_count": 65,
   "metadata": {},
   "outputs": [
    {
     "name": "stdout",
     "output_type": "stream",
     "text": [
      "19\n"
     ]
    }
   ],
   "source": [
    "import requests\n",
    "\n",
    "api_url = \"https://jobs.github.com/positions.json?description=C&page=4\"\n",
    "\n",
    "# \"https://jobs.github.com/positions.json?description=python&location=new+york\"\n",
    "\n",
    "response = requests.get(api_url)\n",
    "\n",
    "if response.ok:             # if all is well() no errors, no network timeouts)\n",
    "    data_2 = response.json()  # store the result in json format in a variable called data\n",
    "                            # the variable data is of type dictionary.\n",
    "print(len(data_2))"
   ]
  },
  {
   "cell_type": "code",
   "execution_count": 66,
   "metadata": {},
   "outputs": [
    {
     "name": "stdout",
     "output_type": "stream",
     "text": [
      "dict_keys(['id', 'type', 'url', 'created_at', 'company', 'company_url', 'location', 'title', 'description', 'how_to_apply', 'company_logo'])\n"
     ]
    }
   ],
   "source": [
    "print(data_2[1].keys())"
   ]
  },
  {
   "cell_type": "code",
   "execution_count": 72,
   "metadata": {},
   "outputs": [
    {
     "name": "stdout",
     "output_type": "stream",
     "text": [
      "('C', 169)\n",
      "('C%23', 11)\n",
      "('C%2B%2B', 22)\n",
      "('Java', 82)\n",
      "('JavaScript', 58)\n",
      "('Python', 48)\n",
      "('Scala', 43)\n",
      "('Oracle', 5)\n",
      "('SQL Server', 15)\n",
      "('MySQL Server', 3)\n",
      "('PostgreSQL', 13)\n",
      "('MongoDB', 3)\n",
      "workbook saved\n"
     ]
    }
   ],
   "source": [
    "import requests \n",
    "from openpyxl import Workbook\n",
    "\n",
    "wb=Workbook()                        \n",
    "ws=wb.active\n",
    "ws.append(['Technology','No of postings'])\n",
    "\n",
    "\n",
    "\n",
    "tech_list = ['C','C%23','C%2B%2B','Java','JavaScript','Python','Scala','Oracle','SQL Server','MySQL Server','PostgreSQL','MongoDB']\n",
    "\n",
    "def get_number_of_jobs(technology):\n",
    "    \n",
    "    if technology == 'C':\n",
    "        api_url = \"https://jobs.github.com/positions.json?description={}&page={}\".format(technology,4)\n",
    "        response = requests.get(api_url)\n",
    "        if response.ok:             \n",
    "            data = response.json()\n",
    "        number_of_jobs = len(data) + 150\n",
    "        ws.append([technology,number_of_jobs])\n",
    "        return technology,number_of_jobs\n",
    "    \n",
    "    if technology == 'Java' or technology == 'JavaScript':\n",
    "        api_url = \"https://jobs.github.com/positions.json?description={}&page={}\".format(technology,2)\n",
    "        response = requests.get(api_url)\n",
    "        if response.ok:             \n",
    "            data = response.json()\n",
    "        number_of_jobs = len(data) + 50\n",
    "    \n",
    "    else:\n",
    "        api_url = \"https://jobs.github.com/positions.json?description={}&page={}\".format(technology,1)\n",
    "        response = requests.get(api_url)\n",
    "        if response.ok:             \n",
    "            data = response.json()\n",
    "        number_of_jobs = len(data)\n",
    "    \n",
    "    ws.append([technology,number_of_jobs])\n",
    "    return technology,number_of_jobs\n",
    "\n",
    "for lang in tech_list:\n",
    "    print(get_number_of_jobs(lang))\n",
    "    \n",
    "wb.save(\"github-job-postings.xlsx\")            # save the workbook into a file called github-job-postings.xlsx\n",
    "print('workbook saved')"
   ]
  },
  {
   "cell_type": "code",
   "execution_count": 71,
   "metadata": {},
   "outputs": [
    {
     "name": "stdout",
     "output_type": "stream",
     "text": [
      "22\n"
     ]
    }
   ],
   "source": [
    "technology = 'C%2B%2B'\n",
    "api_url = \"https://jobs.github.com/positions.json?description={}&page={}\".format(technology,1)\n",
    "response = requests.get(api_url)\n",
    "if response.ok:             \n",
    "    data = response.json()\n",
    "number_of_jobs = len(data)\n",
    "\n",
    "print(number_of_jobs)"
   ]
  }
 ],
 "metadata": {
  "kernelspec": {
   "display_name": "Python 3",
   "language": "python",
   "name": "python3"
  },
  "language_info": {
   "codemirror_mode": {
    "name": "ipython",
    "version": 3
   },
   "file_extension": ".py",
   "mimetype": "text/x-python",
   "name": "python",
   "nbconvert_exporter": "python",
   "pygments_lexer": "ipython3",
   "version": "3.8.5"
  }
 },
 "nbformat": 4,
 "nbformat_minor": 4
}
